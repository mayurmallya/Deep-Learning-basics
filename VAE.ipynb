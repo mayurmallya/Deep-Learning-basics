{
 "cells": [
  {
   "cell_type": "markdown",
   "metadata": {
    "colab_type": "text",
    "id": "mlyKPEkaYZbD"
   },
   "source": [
    "## Variational AutoEncoders\n",
    "\n",
    "__Assignment Goals__:\n",
    "\n",
    "- Implementing Fully Connected AutoEncoders\n",
    "- Implementing Convolutional AutoEncoders\n",
    "- Understand Variational Autoncoder intuition\n",
    "\n",
    "\n",
    "__DataSet:__ MNIST handwritten digit dataset"
   ]
  },
  {
   "cell_type": "code",
   "execution_count": 166,
   "metadata": {
    "colab": {
     "base_uri": "https://localhost:8080/",
     "height": 34
    },
    "colab_type": "code",
    "id": "dJvVpJS_YyjT",
    "outputId": "3ccc5393-1ecd-437c-f2d6-7b0564972021"
   },
   "outputs": [
    {
     "name": "stdout",
     "output_type": "stream",
     "text": [
      "TensorFlow is already loaded. Please restart the runtime to change versions.\n"
     ]
    }
   ],
   "source": [
    "%tensorflow_version 1.x\n",
    "import tensorflow as tf\n",
    "import numpy as np\n",
    "from matplotlib import pyplot as plt"
   ]
  },
  {
   "cell_type": "code",
   "execution_count": 167,
   "metadata": {
    "colab": {
     "base_uri": "https://localhost:8080/",
     "height": 34
    },
    "colab_type": "code",
    "id": "jELktwWAYZbF",
    "outputId": "9c5940b0-f4cc-4e18-e858-4ecd7105703a"
   },
   "outputs": [
    {
     "name": "stdout",
     "output_type": "stream",
     "text": [
      "(60000, 28, 28) (10000, 28, 28)\n"
     ]
    }
   ],
   "source": [
    "(x_train, _), (x_test, _) = tf.keras.datasets.mnist.load_data()\n",
    "print(np.shape(x_train),np.shape(x_test))"
   ]
  },
  {
   "cell_type": "markdown",
   "metadata": {
    "colab_type": "text",
    "id": "F6aMliypu959"
   },
   "source": [
    "**Fully connected autoencoder**"
   ]
  },
  {
   "cell_type": "code",
   "execution_count": 35,
   "metadata": {
    "colab": {
     "base_uri": "https://localhost:8080/",
     "height": 34
    },
    "colab_type": "code",
    "id": "25RrinClxPsv",
    "outputId": "a4abfd2c-864b-4c70-8143-0403ed011a8e"
   },
   "outputs": [
    {
     "name": "stdout",
     "output_type": "stream",
     "text": [
      "(60000, 784) (10000, 784)\n"
     ]
    }
   ],
   "source": [
    "# Reshaping the inputs\n",
    "\n",
    "train_input = np.reshape(x_train, (-1,784))\n",
    "test_input = np.reshape(x_test, (-1,784))\n",
    "print(np.shape(train_input),np.shape(test_input))"
   ]
  },
  {
   "cell_type": "code",
   "execution_count": 0,
   "metadata": {
    "colab": {},
    "colab_type": "code",
    "id": "SNXi4TNL0f6i"
   },
   "outputs": [],
   "source": [
    "# Normalizing the inputs\n",
    "\n",
    "train_input = train_input/255\n",
    "test_input = test_input/255"
   ]
  },
  {
   "cell_type": "code",
   "execution_count": 37,
   "metadata": {
    "colab": {
     "base_uri": "https://localhost:8080/",
     "height": 476
    },
    "colab_type": "code",
    "id": "Du9tpuMU0B2f",
    "outputId": "83cc9d44-e33e-4db3-cfbf-37ae20151466"
   },
   "outputs": [
    {
     "name": "stdout",
     "output_type": "stream",
     "text": [
      "Model: \"model_10\"\n",
      "_________________________________________________________________\n",
      "Layer (type)                 Output Shape              Param #   \n",
      "=================================================================\n",
      "input (InputLayer)           [(None, 784)]             0         \n",
      "_________________________________________________________________\n",
      "enc0 (Dense)                 (None, 300)               235500    \n",
      "_________________________________________________________________\n",
      "enc1 (Dense)                 (None, 75)                22575     \n",
      "_________________________________________________________________\n",
      "enc2 (Dense)                 (None, 15)                1140      \n",
      "_________________________________________________________________\n",
      "bottleneck (Dense)           (None, 2)                 32        \n",
      "_________________________________________________________________\n",
      "dec1 (Dense)                 (None, 15)                45        \n",
      "_________________________________________________________________\n",
      "dec2 (Dense)                 (None, 75)                1200      \n",
      "_________________________________________________________________\n",
      "dec3 (Dense)                 (None, 300)               22800     \n",
      "_________________________________________________________________\n",
      "output (Dense)               (None, 784)               235984    \n",
      "=================================================================\n",
      "Total params: 519,276\n",
      "Trainable params: 519,276\n",
      "Non-trainable params: 0\n",
      "_________________________________________________________________\n",
      "None\n"
     ]
    }
   ],
   "source": [
    "# Model\n",
    "\n",
    "input_layer = tf.keras.layers.Input(shape=(784,), name='input')\n",
    "encoding_layer0 = tf.keras.layers.Dense(300, activation='relu', name='enc0')(input_layer)\n",
    "encoding_layer1 = tf.keras.layers.Dense(75, activation='relu', name='enc1')(encoding_layer0)\n",
    "encoding_layer2 = tf.keras.layers.Dense(15, activation='relu', name='enc2')(encoding_layer1)\n",
    "bottleneck = tf.keras.layers.Dense(2, activation='relu', name='bottleneck')(encoding_layer2)\n",
    "decoding_layer1 = tf.keras.layers.Dense(15, activation='relu', name='dec1')(bottleneck)\n",
    "decoding_layer2 = tf.keras.layers.Dense(75, activation='relu', name='dec2')(decoding_layer1)\n",
    "decoding_layer3 = tf.keras.layers.Dense(300, activation='relu', name='dec3')(decoding_layer2)\n",
    "output_layer = tf.keras.layers.Dense(784, activation='sigmoid', name='output')(decoding_layer3)\n",
    "fcae_model = tf.keras.Model(inputs=input_layer, outputs=output_layer)\n",
    "\n",
    "fcae_model.compile(loss='mse',optimizer='adam')\n",
    "print(fcae_model.summary())"
   ]
  },
  {
   "cell_type": "code",
   "execution_count": 38,
   "metadata": {
    "colab": {
     "base_uri": "https://localhost:8080/",
     "height": 1000
    },
    "colab_type": "code",
    "id": "pIMFXwwK-gqo",
    "outputId": "21fdbfec-d3cb-451b-918c-7484f8f0c572"
   },
   "outputs": [
    {
     "name": "stdout",
     "output_type": "stream",
     "text": [
      "Train on 60000 samples, validate on 10000 samples\n",
      "Epoch 1/100\n",
      "60000/60000 [==============================] - 1s 22us/sample - loss: 0.0870 - val_loss: 0.0686\n",
      "Epoch 2/100\n",
      "60000/60000 [==============================] - 1s 15us/sample - loss: 0.0649 - val_loss: 0.0635\n",
      "Epoch 3/100\n",
      "60000/60000 [==============================] - 1s 15us/sample - loss: 0.0623 - val_loss: 0.0612\n",
      "Epoch 4/100\n",
      "60000/60000 [==============================] - 1s 15us/sample - loss: 0.0606 - val_loss: 0.0601\n",
      "Epoch 5/100\n",
      "60000/60000 [==============================] - 1s 15us/sample - loss: 0.0596 - val_loss: 0.0588\n",
      "Epoch 6/100\n",
      "60000/60000 [==============================] - 1s 14us/sample - loss: 0.0582 - val_loss: 0.0577\n",
      "Epoch 7/100\n",
      "60000/60000 [==============================] - 1s 15us/sample - loss: 0.0570 - val_loss: 0.0563\n",
      "Epoch 8/100\n",
      "60000/60000 [==============================] - 1s 15us/sample - loss: 0.0557 - val_loss: 0.0549\n",
      "Epoch 9/100\n",
      "60000/60000 [==============================] - 1s 15us/sample - loss: 0.0543 - val_loss: 0.0539\n",
      "Epoch 10/100\n",
      "60000/60000 [==============================] - 1s 15us/sample - loss: 0.0534 - val_loss: 0.0531\n",
      "Epoch 11/100\n",
      "60000/60000 [==============================] - 1s 15us/sample - loss: 0.0527 - val_loss: 0.0524\n",
      "Epoch 12/100\n",
      "60000/60000 [==============================] - 1s 15us/sample - loss: 0.0522 - val_loss: 0.0520\n",
      "Epoch 13/100\n",
      "60000/60000 [==============================] - 1s 15us/sample - loss: 0.0518 - val_loss: 0.0516\n",
      "Epoch 14/100\n",
      "60000/60000 [==============================] - 1s 15us/sample - loss: 0.0514 - val_loss: 0.0512\n",
      "Epoch 15/100\n",
      "60000/60000 [==============================] - 1s 15us/sample - loss: 0.0511 - val_loss: 0.0508\n",
      "Epoch 16/100\n",
      "60000/60000 [==============================] - 1s 15us/sample - loss: 0.0507 - val_loss: 0.0505\n",
      "Epoch 17/100\n",
      "60000/60000 [==============================] - 1s 15us/sample - loss: 0.0503 - val_loss: 0.0502\n",
      "Epoch 18/100\n",
      "60000/60000 [==============================] - 1s 15us/sample - loss: 0.0500 - val_loss: 0.0500\n",
      "Epoch 19/100\n",
      "60000/60000 [==============================] - 1s 15us/sample - loss: 0.0497 - val_loss: 0.0496\n",
      "Epoch 20/100\n",
      "60000/60000 [==============================] - 1s 15us/sample - loss: 0.0494 - val_loss: 0.0494\n",
      "Epoch 21/100\n",
      "60000/60000 [==============================] - 1s 14us/sample - loss: 0.0491 - val_loss: 0.0492\n",
      "Epoch 22/100\n",
      "60000/60000 [==============================] - 1s 15us/sample - loss: 0.0490 - val_loss: 0.0489\n",
      "Epoch 23/100\n",
      "60000/60000 [==============================] - 1s 15us/sample - loss: 0.0488 - val_loss: 0.0486\n",
      "Epoch 24/100\n",
      "60000/60000 [==============================] - 1s 15us/sample - loss: 0.0485 - val_loss: 0.0485\n",
      "Epoch 25/100\n",
      "60000/60000 [==============================] - 1s 15us/sample - loss: 0.0483 - val_loss: 0.0484\n",
      "Epoch 26/100\n",
      "60000/60000 [==============================] - 1s 15us/sample - loss: 0.0482 - val_loss: 0.0483\n",
      "Epoch 27/100\n",
      "60000/60000 [==============================] - 1s 15us/sample - loss: 0.0480 - val_loss: 0.0479\n",
      "Epoch 28/100\n",
      "60000/60000 [==============================] - 1s 15us/sample - loss: 0.0477 - val_loss: 0.0478\n",
      "Epoch 29/100\n",
      "60000/60000 [==============================] - 1s 15us/sample - loss: 0.0478 - val_loss: 0.0478\n",
      "Epoch 30/100\n",
      "60000/60000 [==============================] - 1s 15us/sample - loss: 0.0476 - val_loss: 0.0474\n",
      "Epoch 31/100\n",
      "60000/60000 [==============================] - 1s 15us/sample - loss: 0.0474 - val_loss: 0.0473\n",
      "Epoch 32/100\n",
      "60000/60000 [==============================] - 1s 15us/sample - loss: 0.0475 - val_loss: 0.0474\n",
      "Epoch 33/100\n",
      "60000/60000 [==============================] - 1s 15us/sample - loss: 0.0474 - val_loss: 0.0472\n",
      "Epoch 34/100\n",
      "60000/60000 [==============================] - 1s 15us/sample - loss: 0.0471 - val_loss: 0.0469\n",
      "Epoch 35/100\n",
      "60000/60000 [==============================] - 1s 15us/sample - loss: 0.0471 - val_loss: 0.0469\n",
      "Epoch 36/100\n",
      "60000/60000 [==============================] - 1s 15us/sample - loss: 0.0469 - val_loss: 0.0468\n",
      "Epoch 37/100\n",
      "60000/60000 [==============================] - 1s 15us/sample - loss: 0.0468 - val_loss: 0.0466\n",
      "Epoch 38/100\n",
      "60000/60000 [==============================] - 1s 15us/sample - loss: 0.0468 - val_loss: 0.0467\n",
      "Epoch 39/100\n",
      "60000/60000 [==============================] - 1s 15us/sample - loss: 0.0469 - val_loss: 0.0466\n",
      "Epoch 40/100\n",
      "60000/60000 [==============================] - 1s 15us/sample - loss: 0.0465 - val_loss: 0.0464\n",
      "Epoch 41/100\n",
      "60000/60000 [==============================] - 1s 15us/sample - loss: 0.0463 - val_loss: 0.0462\n",
      "Epoch 42/100\n",
      "60000/60000 [==============================] - 1s 15us/sample - loss: 0.0464 - val_loss: 0.0463\n",
      "Epoch 43/100\n",
      "60000/60000 [==============================] - 1s 15us/sample - loss: 0.0461 - val_loss: 0.0461\n",
      "Epoch 44/100\n",
      "60000/60000 [==============================] - 1s 15us/sample - loss: 0.0461 - val_loss: 0.0460\n",
      "Epoch 45/100\n",
      "60000/60000 [==============================] - 1s 15us/sample - loss: 0.0459 - val_loss: 0.0459\n",
      "Epoch 46/100\n",
      "60000/60000 [==============================] - 1s 14us/sample - loss: 0.0458 - val_loss: 0.0460\n",
      "Epoch 47/100\n",
      "60000/60000 [==============================] - 1s 15us/sample - loss: 0.0461 - val_loss: 0.0461\n",
      "Epoch 48/100\n",
      "60000/60000 [==============================] - 1s 15us/sample - loss: 0.0457 - val_loss: 0.0456\n",
      "Epoch 49/100\n",
      "60000/60000 [==============================] - 1s 15us/sample - loss: 0.0459 - val_loss: 0.0458\n",
      "Epoch 50/100\n",
      "60000/60000 [==============================] - 1s 15us/sample - loss: 0.0457 - val_loss: 0.0455\n",
      "Epoch 51/100\n",
      "60000/60000 [==============================] - 1s 15us/sample - loss: 0.0456 - val_loss: 0.0455\n",
      "Epoch 52/100\n",
      "60000/60000 [==============================] - 1s 15us/sample - loss: 0.0454 - val_loss: 0.0454\n",
      "Epoch 53/100\n",
      "60000/60000 [==============================] - 1s 15us/sample - loss: 0.0455 - val_loss: 0.0455\n",
      "Epoch 54/100\n",
      "60000/60000 [==============================] - 1s 15us/sample - loss: 0.0454 - val_loss: 0.0455\n",
      "Epoch 55/100\n",
      "60000/60000 [==============================] - 1s 15us/sample - loss: 0.0454 - val_loss: 0.0454\n",
      "Epoch 56/100\n",
      "60000/60000 [==============================] - 1s 15us/sample - loss: 0.0452 - val_loss: 0.0456\n",
      "Epoch 57/100\n",
      "60000/60000 [==============================] - 1s 15us/sample - loss: 0.0454 - val_loss: 0.0452\n",
      "Epoch 58/100\n",
      "60000/60000 [==============================] - 1s 15us/sample - loss: 0.0454 - val_loss: 0.0454\n",
      "Epoch 59/100\n",
      "60000/60000 [==============================] - 1s 15us/sample - loss: 0.0452 - val_loss: 0.0454\n",
      "Epoch 60/100\n",
      "60000/60000 [==============================] - 1s 15us/sample - loss: 0.0452 - val_loss: 0.0450\n",
      "Epoch 61/100\n",
      "60000/60000 [==============================] - 1s 15us/sample - loss: 0.0450 - val_loss: 0.0452\n",
      "Epoch 62/100\n",
      "60000/60000 [==============================] - 1s 15us/sample - loss: 0.0450 - val_loss: 0.0454\n",
      "Epoch 63/100\n",
      "60000/60000 [==============================] - 1s 14us/sample - loss: 0.0450 - val_loss: 0.0451\n",
      "Epoch 64/100\n",
      "60000/60000 [==============================] - 1s 15us/sample - loss: 0.0449 - val_loss: 0.0454\n",
      "Epoch 65/100\n",
      "60000/60000 [==============================] - 1s 15us/sample - loss: 0.0449 - val_loss: 0.0450\n",
      "Epoch 66/100\n",
      "60000/60000 [==============================] - 1s 14us/sample - loss: 0.0449 - val_loss: 0.0452\n",
      "Epoch 67/100\n",
      "60000/60000 [==============================] - 1s 15us/sample - loss: 0.0450 - val_loss: 0.0452\n",
      "Epoch 68/100\n",
      "60000/60000 [==============================] - 1s 15us/sample - loss: 0.0447 - val_loss: 0.0450\n",
      "Epoch 69/100\n",
      "60000/60000 [==============================] - 1s 15us/sample - loss: 0.0449 - val_loss: 0.0449\n",
      "Epoch 70/100\n",
      "60000/60000 [==============================] - 1s 15us/sample - loss: 0.0448 - val_loss: 0.0449\n",
      "Epoch 71/100\n",
      "60000/60000 [==============================] - 1s 14us/sample - loss: 0.0447 - val_loss: 0.0449\n",
      "Epoch 72/100\n",
      "60000/60000 [==============================] - 1s 15us/sample - loss: 0.0446 - val_loss: 0.0450\n",
      "Epoch 73/100\n",
      "60000/60000 [==============================] - 1s 14us/sample - loss: 0.0447 - val_loss: 0.0448\n",
      "Epoch 74/100\n",
      "60000/60000 [==============================] - 1s 15us/sample - loss: 0.0447 - val_loss: 0.0447\n",
      "Epoch 75/100\n",
      "60000/60000 [==============================] - 1s 15us/sample - loss: 0.0447 - val_loss: 0.0447\n",
      "Epoch 76/100\n",
      "60000/60000 [==============================] - 1s 15us/sample - loss: 0.0445 - val_loss: 0.0447\n",
      "Epoch 77/100\n",
      "60000/60000 [==============================] - 1s 15us/sample - loss: 0.0445 - val_loss: 0.0444\n",
      "Epoch 78/100\n",
      "60000/60000 [==============================] - 1s 15us/sample - loss: 0.0444 - val_loss: 0.0444\n",
      "Epoch 79/100\n",
      "60000/60000 [==============================] - 1s 15us/sample - loss: 0.0443 - val_loss: 0.0444\n",
      "Epoch 80/100\n",
      "60000/60000 [==============================] - 1s 15us/sample - loss: 0.0442 - val_loss: 0.0447\n",
      "Epoch 81/100\n",
      "60000/60000 [==============================] - 1s 15us/sample - loss: 0.0443 - val_loss: 0.0445\n",
      "Epoch 82/100\n",
      "60000/60000 [==============================] - 1s 15us/sample - loss: 0.0442 - val_loss: 0.0445\n",
      "Epoch 83/100\n",
      "60000/60000 [==============================] - 1s 15us/sample - loss: 0.0443 - val_loss: 0.0446\n",
      "Epoch 84/100\n",
      "60000/60000 [==============================] - 1s 15us/sample - loss: 0.0443 - val_loss: 0.0441\n",
      "Epoch 85/100\n",
      "60000/60000 [==============================] - 1s 15us/sample - loss: 0.0441 - val_loss: 0.0441\n",
      "Epoch 86/100\n",
      "60000/60000 [==============================] - 1s 15us/sample - loss: 0.0440 - val_loss: 0.0441\n",
      "Epoch 87/100\n",
      "60000/60000 [==============================] - 1s 15us/sample - loss: 0.0440 - val_loss: 0.0442\n",
      "Epoch 88/100\n",
      "60000/60000 [==============================] - 1s 15us/sample - loss: 0.0440 - val_loss: 0.0441\n",
      "Epoch 89/100\n",
      "60000/60000 [==============================] - 1s 15us/sample - loss: 0.0439 - val_loss: 0.0442\n",
      "Epoch 90/100\n",
      "60000/60000 [==============================] - 1s 15us/sample - loss: 0.0438 - val_loss: 0.0440\n",
      "Epoch 91/100\n",
      "60000/60000 [==============================] - 1s 14us/sample - loss: 0.0438 - val_loss: 0.0439\n",
      "Epoch 92/100\n",
      "60000/60000 [==============================] - 1s 15us/sample - loss: 0.0439 - val_loss: 0.0440\n",
      "Epoch 93/100\n",
      "60000/60000 [==============================] - 1s 15us/sample - loss: 0.0441 - val_loss: 0.0439\n",
      "Epoch 94/100\n",
      "60000/60000 [==============================] - 1s 15us/sample - loss: 0.0437 - val_loss: 0.0441\n",
      "Epoch 95/100\n",
      "60000/60000 [==============================] - 1s 15us/sample - loss: 0.0438 - val_loss: 0.0444\n",
      "Epoch 96/100\n",
      "60000/60000 [==============================] - 1s 15us/sample - loss: 0.0439 - val_loss: 0.0438\n",
      "Epoch 97/100\n",
      "60000/60000 [==============================] - 1s 15us/sample - loss: 0.0438 - val_loss: 0.0438\n",
      "Epoch 98/100\n",
      "60000/60000 [==============================] - 1s 15us/sample - loss: 0.0437 - val_loss: 0.0437\n",
      "Epoch 99/100\n",
      "60000/60000 [==============================] - 1s 15us/sample - loss: 0.0439 - val_loss: 0.0437\n",
      "Epoch 100/100\n",
      "60000/60000 [==============================] - 1s 15us/sample - loss: 0.0436 - val_loss: 0.0437\n"
     ]
    }
   ],
   "source": [
    "q1 = fcae_model.fit(train_input, train_input, batch_size=500, epochs=100, validation_data=(test_input,test_input)) \n",
    "# Data shuffle is TRUE by default"
   ]
  },
  {
   "cell_type": "code",
   "execution_count": 39,
   "metadata": {
    "colab": {
     "base_uri": "https://localhost:8080/",
     "height": 295
    },
    "colab_type": "code",
    "id": "cj9EujHxB1rh",
    "outputId": "f46c5589-7a50-42a2-94e1-f40d46afa35b"
   },
   "outputs": [
    {
     "data": {
      "image/png": "[encoded data removed]",
      "text/plain": [
       "<Figure size 432x288 with 1 Axes>"
      ]
     },
     "metadata": {
      "tags": []
     },
     "output_type": "display_data"
    }
   ],
   "source": [
    "# Loss plots \n",
    "\n",
    "from matplotlib import pyplot as plt\n",
    "\n",
    "plt.plot(q1.history['loss'])\n",
    "plt.plot(q1.history['val_loss'])\n",
    "plt.title('Fully connected autoencoder model loss')\n",
    "plt.ylabel('loss')\n",
    "plt.xlabel('epoch')\n",
    "plt.legend(['train', 'validation'], loc='upper right')\n",
    "plt.grid()\n",
    "plt.show()"
   ]
  },
  {
   "cell_type": "code",
   "execution_count": 0,
   "metadata": {
    "colab": {},
    "colab_type": "code",
    "id": "Dlg5fJAzFrzD"
   },
   "outputs": [],
   "source": [
    "# Randomly choosing 10 test images\n",
    "np.random.seed(3)\n",
    "rand_index = np.random.randint(10000, size=10)\n",
    "final_test_images = test_input[rand_index]\n",
    "\n",
    "\n",
    "# Getting the intermediate layer output (bottleneck layer encoded)\n",
    "encoding_model = tf.keras.Model(fcae_model.input, fcae_model.get_layer('bottleneck').output)\n",
    "final_test_image_encoding = encoding_model.predict(final_test_images)\n",
    "\n",
    "\n",
    "# Getting the autoencoder output (decoded)\n",
    "decoded_output = fcae_model.predict(final_test_images)"
   ]
  },
  {
   "cell_type": "code",
   "execution_count": 48,
   "metadata": {
    "colab": {
     "base_uri": "https://localhost:8080/",
     "height": 265
    },
    "colab_type": "code",
    "id": "_Jxza43kTIb1",
    "outputId": "098e56f8-b2e5-4cd2-f7df-cd424a907349"
   },
   "outputs": [
    {
     "data": {
      "image/png": "[encoded data removed]",
      "text/plain": [
       "<Figure size 1440x288 with 20 Axes>"
      ]
     },
     "metadata": {
      "tags": []
     },
     "output_type": "display_data"
    },
    {
     "name": "stdout",
     "output_type": "stream",
     "text": [
      "Top row images are original; Bottom row images are the reconstructed ones\n"
     ]
    }
   ],
   "source": [
    "# Visualizing the decoded images (Code borrowed from https://blog.keras.io/building-autoencoders-in-keras.html)\n",
    "\n",
    "n = 10  \n",
    "plt.figure(figsize=(20, 4))\n",
    "\n",
    "for i in range(n):\n",
    "\n",
    "    # display original\n",
    "    ax = plt.subplot(2, n, i + 1)\n",
    "    plt.imshow(final_test_images[i].reshape(28, 28))\n",
    "    plt.gray()\n",
    "    ax.get_xaxis().set_visible(False)\n",
    "    ax.get_yaxis().set_visible(False)\n",
    "\n",
    "    # display reconstruction\n",
    "    ax = plt.subplot(2, n, i + 1 + n)\n",
    "    plt.imshow(decoded_output[i].reshape(28, 28))\n",
    "    plt.gray()\n",
    "    ax.get_xaxis().set_visible(False)\n",
    "    ax.get_yaxis().set_visible(False)\n",
    "plt.show()\n",
    "\n",
    "print('Top row images are original; Bottom row images are the reconstructed ones')"
   ]
  },
  {
   "cell_type": "markdown",
   "metadata": {
    "colab_type": "text",
    "id": "xc12S5cppy6v"
   },
   "source": [
    "**Convolutional Autoencoder**\n",
    "\n",
    "\n",
    "\n"
   ]
  },
  {
   "cell_type": "code",
   "execution_count": 49,
   "metadata": {
    "colab": {
     "base_uri": "https://localhost:8080/",
     "height": 34
    },
    "colab_type": "code",
    "id": "yJU-NQNhBjla",
    "outputId": "06c19c89-910d-4564-bbfc-b8e7e0ac8432"
   },
   "outputs": [
    {
     "name": "stdout",
     "output_type": "stream",
     "text": [
      "(60000, 28, 28, 1) (10000, 28, 28, 1)\n"
     ]
    }
   ],
   "source": [
    "# Preparing the inputs\n",
    "\n",
    "train_input = np.expand_dims(x_train, -1)\n",
    "test_input = np.expand_dims(x_test, -1)\n",
    "\n",
    "# Normalize the inputs\n",
    "train_input = train_input/255\n",
    "test_input = test_input/255\n",
    "\n",
    "print(np.shape(train_input),np.shape(test_input))"
   ]
  },
  {
   "cell_type": "code",
   "execution_count": 50,
   "metadata": {
    "colab": {
     "base_uri": "https://localhost:8080/",
     "height": 714
    },
    "colab_type": "code",
    "id": "awL7cLZ1vjV4",
    "outputId": "c98c8cbd-f5bf-4f52-f988-1a7f70e209a9"
   },
   "outputs": [
    {
     "name": "stdout",
     "output_type": "stream",
     "text": [
      "Model: \"model_15\"\n",
      "_________________________________________________________________\n",
      "Layer (type)                 Output Shape              Param #   \n",
      "=================================================================\n",
      "input (InputLayer)           [(None, 28, 28, 1)]       0         \n",
      "_________________________________________________________________\n",
      "e1 (Conv2D)                  (None, 26, 26, 32)        320       \n",
      "_________________________________________________________________\n",
      "e2 (MaxPooling2D)            (None, 13, 13, 32)        0         \n",
      "_________________________________________________________________\n",
      "e3 (Conv2D)                  (None, 11, 11, 8)         2312      \n",
      "_________________________________________________________________\n",
      "e4 (MaxPooling2D)            (None, 6, 6, 8)           0         \n",
      "_________________________________________________________________\n",
      "e5 (Conv2D)                  (None, 4, 4, 3)           219       \n",
      "_________________________________________________________________\n",
      "bottleneck2 (MaxPooling2D)   (None, 2, 2, 3)           0         \n",
      "_________________________________________________________________\n",
      "d1 (Conv2D)                  (None, 2, 2, 4)           112       \n",
      "_________________________________________________________________\n",
      "d2 (UpSampling2D)            (None, 4, 4, 4)           0         \n",
      "_________________________________________________________________\n",
      "d3 (Conv2D)                  (None, 4, 4, 8)           296       \n",
      "_________________________________________________________________\n",
      "d4 (UpSampling2D)            (None, 8, 8, 8)           0         \n",
      "_________________________________________________________________\n",
      "d5 (Conv2D)                  (None, 8, 8, 16)          1168      \n",
      "_________________________________________________________________\n",
      "d6 (UpSampling2D)            (None, 16, 16, 16)        0         \n",
      "_________________________________________________________________\n",
      "d7 (Conv2D)                  (None, 14, 14, 32)        4640      \n",
      "_________________________________________________________________\n",
      "d8 (UpSampling2D)            (None, 28, 28, 32)        0         \n",
      "_________________________________________________________________\n",
      "decoded (Conv2D)             (None, 28, 28, 1)         801       \n",
      "=================================================================\n",
      "Total params: 9,868\n",
      "Trainable params: 9,868\n",
      "Non-trainable params: 0\n",
      "_________________________________________________________________\n",
      "None\n"
     ]
    }
   ],
   "source": [
    "# np.random.seed(10)\n",
    "\n",
    "input_layer2 = tf.keras.layers.Input(shape=(28, 28, 1), name='input')  \n",
    "e1 = tf.keras.layers.Conv2D(32, (3, 3), activation='relu', padding='valid', name='e1')(input_layer2)\n",
    "e2 = tf.keras.layers.MaxPooling2D((2, 2), padding='same', name='e2')(e1)\n",
    "e3 = tf.keras.layers.Conv2D(8, (3, 3), activation='relu', padding='valid', name='e3')(e2)\n",
    "e4 = tf.keras.layers.MaxPooling2D((2, 2), padding='same', name='e4')(e3)\n",
    "e5 = tf.keras.layers.Conv2D(3, (3, 3), activation='relu', padding='valid', name='e5')(e4)\n",
    "bottleneck2 = tf.keras.layers.MaxPooling2D((3, 3), padding='same', name='bottleneck2')(e5)\n",
    "\n",
    "d1 = tf.keras.layers.Conv2D(4, (3, 3), activation='relu', padding='same', name='d1')(bottleneck2)\n",
    "d2 = tf.keras.layers.UpSampling2D((2, 2), name='d2')(d1)\n",
    "d3 = tf.keras.layers.Conv2D(8, (3, 3), activation='relu', padding='same', name='d3')(d2)\n",
    "d4 = tf.keras.layers.UpSampling2D((2, 2), name='d4')(d3)\n",
    "d5 = tf.keras.layers.Conv2D(16, (3, 3), activation='relu', padding='same', name='d5')(d4)\n",
    "d6 = tf.keras.layers.UpSampling2D((2, 2), name='d6')(d5)\n",
    "d7 = tf.keras.layers.Conv2D(32, (3, 3), activation='relu', padding='valid', name='d7')(d6)\n",
    "d8 = tf.keras.layers.UpSampling2D((2, 2), name='d8')(d7)\n",
    "decoded = tf.keras.layers.Conv2D(1, (5, 5), activation='sigmoid', padding='same', name='decoded')(d8)\n",
    "\n",
    "cae = tf.keras.Model(input_layer2, decoded)\n",
    "print(cae.summary())\n",
    "\n",
    "sgd = tf.keras.optimizers.SGD(lr=0.05, decay=1e-6, momentum=0.9, nesterov=True)\n",
    "cae.compile(loss='mse',optimizer=sgd)"
   ]
  },
  {
   "cell_type": "code",
   "execution_count": 51,
   "metadata": {
    "colab": {
     "base_uri": "https://localhost:8080/",
     "height": 1000
    },
    "colab_type": "code",
    "id": "7TSPaKRmDDwj",
    "outputId": "fc2a58e5-2440-49b3-ceb3-6f888e614ce7"
   },
   "outputs": [
    {
     "name": "stdout",
     "output_type": "stream",
     "text": [
      "Train on 60000 samples, validate on 10000 samples\n",
      "Epoch 1/100\n",
      "60000/60000 [==============================] - 8s 140us/sample - loss: 0.1002 - val_loss: 0.0679\n",
      "Epoch 2/100\n",
      "60000/60000 [==============================] - 3s 51us/sample - loss: 0.0649 - val_loss: 0.0635\n",
      "Epoch 3/100\n",
      "60000/60000 [==============================] - 3s 52us/sample - loss: 0.0621 - val_loss: 0.0606\n",
      "Epoch 4/100\n",
      "60000/60000 [==============================] - 3s 53us/sample - loss: 0.0597 - val_loss: 0.0571\n",
      "Epoch 5/100\n",
      "60000/60000 [==============================] - 3s 51us/sample - loss: 0.0564 - val_loss: 0.0547\n",
      "Epoch 6/100\n",
      "60000/60000 [==============================] - 3s 51us/sample - loss: 0.0538 - val_loss: 0.0531\n",
      "Epoch 7/100\n",
      "60000/60000 [==============================] - 3s 51us/sample - loss: 0.0518 - val_loss: 0.0500\n",
      "Epoch 8/100\n",
      "60000/60000 [==============================] - 3s 51us/sample - loss: 0.0501 - val_loss: 0.0485\n",
      "Epoch 9/100\n",
      "60000/60000 [==============================] - 3s 51us/sample - loss: 0.0486 - val_loss: 0.0486\n",
      "Epoch 10/100\n",
      "60000/60000 [==============================] - 3s 51us/sample - loss: 0.0473 - val_loss: 0.0457\n",
      "Epoch 11/100\n",
      "60000/60000 [==============================] - 3s 51us/sample - loss: 0.0462 - val_loss: 0.0451\n",
      "Epoch 12/100\n",
      "60000/60000 [==============================] - 3s 52us/sample - loss: 0.0452 - val_loss: 0.0436\n",
      "Epoch 13/100\n",
      "60000/60000 [==============================] - 3s 52us/sample - loss: 0.0441 - val_loss: 0.0429\n",
      "Epoch 14/100\n",
      "60000/60000 [==============================] - 3s 52us/sample - loss: 0.0431 - val_loss: 0.0414\n",
      "Epoch 15/100\n",
      "60000/60000 [==============================] - 3s 51us/sample - loss: 0.0421 - val_loss: 0.0431\n",
      "Epoch 16/100\n",
      "60000/60000 [==============================] - 3s 51us/sample - loss: 0.0413 - val_loss: 0.0429\n",
      "Epoch 17/100\n",
      "60000/60000 [==============================] - 3s 51us/sample - loss: 0.0406 - val_loss: 0.0406\n",
      "Epoch 18/100\n",
      "60000/60000 [==============================] - 3s 51us/sample - loss: 0.0400 - val_loss: 0.0386\n",
      "Epoch 19/100\n",
      "60000/60000 [==============================] - 3s 51us/sample - loss: 0.0393 - val_loss: 0.0395\n",
      "Epoch 20/100\n",
      "60000/60000 [==============================] - 3s 51us/sample - loss: 0.0388 - val_loss: 0.0378\n",
      "Epoch 21/100\n",
      "60000/60000 [==============================] - 3s 51us/sample - loss: 0.0383 - val_loss: 0.0383\n",
      "Epoch 22/100\n",
      "60000/60000 [==============================] - 3s 51us/sample - loss: 0.0379 - val_loss: 0.0377\n",
      "Epoch 23/100\n",
      "60000/60000 [==============================] - 3s 51us/sample - loss: 0.0375 - val_loss: 0.0368\n",
      "Epoch 24/100\n",
      "60000/60000 [==============================] - 3s 52us/sample - loss: 0.0370 - val_loss: 0.0365\n",
      "Epoch 25/100\n",
      "60000/60000 [==============================] - 3s 51us/sample - loss: 0.0367 - val_loss: 0.0355\n",
      "Epoch 26/100\n",
      "60000/60000 [==============================] - 3s 51us/sample - loss: 0.0363 - val_loss: 0.0357\n",
      "Epoch 27/100\n",
      "60000/60000 [==============================] - 3s 51us/sample - loss: 0.0359 - val_loss: 0.0362\n",
      "Epoch 28/100\n",
      "60000/60000 [==============================] - 3s 51us/sample - loss: 0.0356 - val_loss: 0.0350\n",
      "Epoch 29/100\n",
      "60000/60000 [==============================] - 3s 51us/sample - loss: 0.0354 - val_loss: 0.0345\n",
      "Epoch 30/100\n",
      "60000/60000 [==============================] - 3s 51us/sample - loss: 0.0351 - val_loss: 0.0355\n",
      "Epoch 31/100\n",
      "60000/60000 [==============================] - 3s 51us/sample - loss: 0.0348 - val_loss: 0.0349\n",
      "Epoch 32/100\n",
      "60000/60000 [==============================] - 3s 51us/sample - loss: 0.0346 - val_loss: 0.0336\n",
      "Epoch 33/100\n",
      "60000/60000 [==============================] - 3s 51us/sample - loss: 0.0343 - val_loss: 0.0345\n",
      "Epoch 34/100\n",
      "60000/60000 [==============================] - 3s 51us/sample - loss: 0.0342 - val_loss: 0.0339\n",
      "Epoch 35/100\n",
      "60000/60000 [==============================] - 3s 51us/sample - loss: 0.0339 - val_loss: 0.0338\n",
      "Epoch 36/100\n",
      "60000/60000 [==============================] - 3s 51us/sample - loss: 0.0337 - val_loss: 0.0331\n",
      "Epoch 37/100\n",
      "60000/60000 [==============================] - 3s 51us/sample - loss: 0.0335 - val_loss: 0.0332\n",
      "Epoch 38/100\n",
      "60000/60000 [==============================] - 3s 51us/sample - loss: 0.0334 - val_loss: 0.0326\n",
      "Epoch 39/100\n",
      "60000/60000 [==============================] - 3s 51us/sample - loss: 0.0332 - val_loss: 0.0327\n",
      "Epoch 40/100\n",
      "60000/60000 [==============================] - 3s 51us/sample - loss: 0.0330 - val_loss: 0.0324\n",
      "Epoch 41/100\n",
      "60000/60000 [==============================] - 3s 52us/sample - loss: 0.0329 - val_loss: 0.0321\n",
      "Epoch 42/100\n",
      "60000/60000 [==============================] - 3s 51us/sample - loss: 0.0327 - val_loss: 0.0324\n",
      "Epoch 43/100\n",
      "60000/60000 [==============================] - 3s 51us/sample - loss: 0.0325 - val_loss: 0.0321\n",
      "Epoch 44/100\n",
      "60000/60000 [==============================] - 3s 51us/sample - loss: 0.0325 - val_loss: 0.0328\n",
      "Epoch 45/100\n",
      "60000/60000 [==============================] - 3s 51us/sample - loss: 0.0322 - val_loss: 0.0315\n",
      "Epoch 46/100\n",
      "60000/60000 [==============================] - 3s 51us/sample - loss: 0.0322 - val_loss: 0.0315\n",
      "Epoch 47/100\n",
      "60000/60000 [==============================] - 3s 51us/sample - loss: 0.0320 - val_loss: 0.0318\n",
      "Epoch 48/100\n",
      "60000/60000 [==============================] - 3s 51us/sample - loss: 0.0319 - val_loss: 0.0321\n",
      "Epoch 49/100\n",
      "60000/60000 [==============================] - 3s 51us/sample - loss: 0.0318 - val_loss: 0.0318\n",
      "Epoch 50/100\n",
      "60000/60000 [==============================] - 3s 51us/sample - loss: 0.0316 - val_loss: 0.0325\n",
      "Epoch 51/100\n",
      "60000/60000 [==============================] - 3s 51us/sample - loss: 0.0315 - val_loss: 0.0314\n",
      "Epoch 52/100\n",
      "60000/60000 [==============================] - 3s 51us/sample - loss: 0.0314 - val_loss: 0.0308\n",
      "Epoch 53/100\n",
      "60000/60000 [==============================] - 3s 51us/sample - loss: 0.0312 - val_loss: 0.0313\n",
      "Epoch 54/100\n",
      "60000/60000 [==============================] - 3s 51us/sample - loss: 0.0313 - val_loss: 0.0312\n",
      "Epoch 55/100\n",
      "60000/60000 [==============================] - 3s 51us/sample - loss: 0.0310 - val_loss: 0.0308\n",
      "Epoch 56/100\n",
      "60000/60000 [==============================] - 3s 51us/sample - loss: 0.0310 - val_loss: 0.0304\n",
      "Epoch 57/100\n",
      "60000/60000 [==============================] - 3s 51us/sample - loss: 0.0309 - val_loss: 0.0310\n",
      "Epoch 58/100\n",
      "60000/60000 [==============================] - 3s 51us/sample - loss: 0.0308 - val_loss: 0.0309\n",
      "Epoch 59/100\n",
      "60000/60000 [==============================] - 3s 51us/sample - loss: 0.0307 - val_loss: 0.0301\n",
      "Epoch 60/100\n",
      "60000/60000 [==============================] - 3s 52us/sample - loss: 0.0306 - val_loss: 0.0312\n",
      "Epoch 61/100\n",
      "60000/60000 [==============================] - 3s 52us/sample - loss: 0.0305 - val_loss: 0.0301\n",
      "Epoch 62/100\n",
      "60000/60000 [==============================] - 3s 51us/sample - loss: 0.0304 - val_loss: 0.0298\n",
      "Epoch 63/100\n",
      "60000/60000 [==============================] - 3s 52us/sample - loss: 0.0303 - val_loss: 0.0301\n",
      "Epoch 64/100\n",
      "60000/60000 [==============================] - 3s 51us/sample - loss: 0.0302 - val_loss: 0.0297\n",
      "Epoch 65/100\n",
      "60000/60000 [==============================] - 3s 51us/sample - loss: 0.0302 - val_loss: 0.0297\n",
      "Epoch 66/100\n",
      "60000/60000 [==============================] - 3s 51us/sample - loss: 0.0301 - val_loss: 0.0302\n",
      "Epoch 67/100\n",
      "60000/60000 [==============================] - 3s 51us/sample - loss: 0.0300 - val_loss: 0.0296\n",
      "Epoch 68/100\n",
      "60000/60000 [==============================] - 3s 51us/sample - loss: 0.0300 - val_loss: 0.0293\n",
      "Epoch 69/100\n",
      "60000/60000 [==============================] - 3s 51us/sample - loss: 0.0298 - val_loss: 0.0294\n",
      "Epoch 70/100\n",
      "60000/60000 [==============================] - 3s 51us/sample - loss: 0.0297 - val_loss: 0.0291\n",
      "Epoch 71/100\n",
      "60000/60000 [==============================] - 3s 51us/sample - loss: 0.0297 - val_loss: 0.0296\n",
      "Epoch 72/100\n",
      "60000/60000 [==============================] - 3s 51us/sample - loss: 0.0296 - val_loss: 0.0296\n",
      "Epoch 73/100\n",
      "60000/60000 [==============================] - 3s 51us/sample - loss: 0.0296 - val_loss: 0.0292\n",
      "Epoch 74/100\n",
      "60000/60000 [==============================] - 3s 51us/sample - loss: 0.0295 - val_loss: 0.0290\n",
      "Epoch 75/100\n",
      "60000/60000 [==============================] - 3s 51us/sample - loss: 0.0294 - val_loss: 0.0286\n",
      "Epoch 76/100\n",
      "60000/60000 [==============================] - 3s 51us/sample - loss: 0.0293 - val_loss: 0.0286\n",
      "Epoch 77/100\n",
      "60000/60000 [==============================] - 3s 51us/sample - loss: 0.0292 - val_loss: 0.0291\n",
      "Epoch 78/100\n",
      "60000/60000 [==============================] - 3s 51us/sample - loss: 0.0291 - val_loss: 0.0284\n",
      "Epoch 79/100\n",
      "60000/60000 [==============================] - 3s 51us/sample - loss: 0.0291 - val_loss: 0.0293\n",
      "Epoch 80/100\n",
      "60000/60000 [==============================] - 3s 50us/sample - loss: 0.0290 - val_loss: 0.0288\n",
      "Epoch 81/100\n",
      "60000/60000 [==============================] - 3s 51us/sample - loss: 0.0289 - val_loss: 0.0286\n",
      "Epoch 82/100\n",
      "60000/60000 [==============================] - 3s 51us/sample - loss: 0.0289 - val_loss: 0.0298\n",
      "Epoch 83/100\n",
      "60000/60000 [==============================] - 3s 51us/sample - loss: 0.0288 - val_loss: 0.0285\n",
      "Epoch 84/100\n",
      "60000/60000 [==============================] - 3s 51us/sample - loss: 0.0287 - val_loss: 0.0282\n",
      "Epoch 85/100\n",
      "60000/60000 [==============================] - 3s 51us/sample - loss: 0.0286 - val_loss: 0.0284\n",
      "Epoch 86/100\n",
      "60000/60000 [==============================] - 3s 51us/sample - loss: 0.0286 - val_loss: 0.0279\n",
      "Epoch 87/100\n",
      "60000/60000 [==============================] - 3s 51us/sample - loss: 0.0285 - val_loss: 0.0282\n",
      "Epoch 88/100\n",
      "60000/60000 [==============================] - 3s 51us/sample - loss: 0.0285 - val_loss: 0.0280\n",
      "Epoch 89/100\n",
      "60000/60000 [==============================] - 3s 51us/sample - loss: 0.0284 - val_loss: 0.0279\n",
      "Epoch 90/100\n",
      "60000/60000 [==============================] - 3s 51us/sample - loss: 0.0283 - val_loss: 0.0277\n",
      "Epoch 91/100\n",
      "60000/60000 [==============================] - 3s 51us/sample - loss: 0.0283 - val_loss: 0.0293\n",
      "Epoch 92/100\n",
      "60000/60000 [==============================] - 3s 52us/sample - loss: 0.0281 - val_loss: 0.0280\n",
      "Epoch 93/100\n",
      "60000/60000 [==============================] - 3s 51us/sample - loss: 0.0282 - val_loss: 0.0278\n",
      "Epoch 94/100\n",
      "60000/60000 [==============================] - 3s 51us/sample - loss: 0.0281 - val_loss: 0.0277\n",
      "Epoch 95/100\n",
      "60000/60000 [==============================] - 3s 51us/sample - loss: 0.0280 - val_loss: 0.0283\n",
      "Epoch 96/100\n",
      "60000/60000 [==============================] - 3s 51us/sample - loss: 0.0279 - val_loss: 0.0280\n",
      "Epoch 97/100\n",
      "60000/60000 [==============================] - 3s 51us/sample - loss: 0.0279 - val_loss: 0.0278\n",
      "Epoch 98/100\n",
      "60000/60000 [==============================] - 3s 51us/sample - loss: 0.0278 - val_loss: 0.0272\n",
      "Epoch 99/100\n",
      "60000/60000 [==============================] - 3s 51us/sample - loss: 0.0278 - val_loss: 0.0277\n",
      "Epoch 100/100\n",
      "60000/60000 [==============================] - 3s 51us/sample - loss: 0.0278 - val_loss: 0.0273\n"
     ]
    }
   ],
   "source": [
    "q2 = cae.fit(train_input,train_input,batch_size=500,epochs=100,validation_data=(test_input,test_input))"
   ]
  },
  {
   "cell_type": "code",
   "execution_count": 52,
   "metadata": {
    "colab": {
     "base_uri": "https://localhost:8080/",
     "height": 295
    },
    "colab_type": "code",
    "id": "a9MU1aNBGjcB",
    "outputId": "a1eb9cf0-0307-4569-abf5-7715733d07da"
   },
   "outputs": [
    {
     "data": {
      "image/png": "[encoded data removed]",
      "text/plain": [
       "<Figure size 432x288 with 1 Axes>"
      ]
     },
     "metadata": {
      "tags": []
     },
     "output_type": "display_data"
    }
   ],
   "source": [
    "# Loss plots \n",
    "\n",
    "plt.plot(q2.history['loss'])\n",
    "plt.plot(q2.history['val_loss'])\n",
    "plt.title('Convolution autoencoder model loss')\n",
    "plt.ylabel('loss')\n",
    "plt.xlabel('epoch')\n",
    "plt.legend(['train', 'validation'], loc='upper right')\n",
    "plt.grid()\n",
    "plt.show()"
   ]
  },
  {
   "cell_type": "code",
   "execution_count": 0,
   "metadata": {
    "colab": {},
    "colab_type": "code",
    "id": "JmxzuZfOvsWT"
   },
   "outputs": [],
   "source": [
    "# Randomly choosing 10 test images\n",
    "np.random.seed(1)\n",
    "rand_index = np.random.randint(10000, size=10)\n",
    "final_test_images = test_input[rand_index]\n",
    "\n",
    "\n",
    "# Getting the intermediate layer output (bottleneck layer encoded)\n",
    "encoding_model2 = tf.keras.Model(cae.input, cae.get_layer('bottleneck2').output)\n",
    "final_test_image_encoding2 = encoding_model2.predict(final_test_images)\n",
    "\n",
    "\n",
    "# Getting the autoencoder output (decoded)\n",
    "decoded_output2 = cae.predict(final_test_images)"
   ]
  },
  {
   "cell_type": "code",
   "execution_count": 58,
   "metadata": {
    "colab": {
     "base_uri": "https://localhost:8080/",
     "height": 265
    },
    "colab_type": "code",
    "id": "3wOCbGJtu_EC",
    "outputId": "26e38081-8932-4561-c14e-72ae3d23646b"
   },
   "outputs": [
    {
     "data": {
      "image/png": "[encoded data removed]",
      "text/plain": [
       "<Figure size 1440x288 with 20 Axes>"
      ]
     },
     "metadata": {
      "tags": []
     },
     "output_type": "display_data"
    },
    {
     "name": "stdout",
     "output_type": "stream",
     "text": [
      "Top row images are original; Bottom row images are the reconstructed ones\n"
     ]
    }
   ],
   "source": [
    "# Visualizing the decoded images (Code borrowed from https://blog.keras.io/building-autoencoders-in-keras.html)\n",
    "\n",
    "n = 10  \n",
    "plt.figure(figsize=(20, 4))\n",
    "for i in range(n):\n",
    "    # display original\n",
    "    ax = plt.subplot(2, n, i + 1)\n",
    "    plt.imshow(final_test_images[i].reshape(28, 28))\n",
    "    plt.gray()\n",
    "    ax.get_xaxis().set_visible(False)\n",
    "    ax.get_yaxis().set_visible(False)\n",
    "\n",
    "    # display reconstruction\n",
    "    ax = plt.subplot(2, n, i + 1 + n)\n",
    "    plt.imshow(decoded_output2[i].reshape(28, 28))\n",
    "    plt.gray()\n",
    "    ax.get_xaxis().set_visible(False)\n",
    "    ax.get_yaxis().set_visible(False)\n",
    "plt.show()\n",
    "\n",
    "print('Top row images are original; Bottom row images are the reconstructed ones')"
   ]
  },
  {
   "cell_type": "markdown",
   "metadata": {
    "colab_type": "text",
    "id": "RTbjpsHcvIs2"
   },
   "source": [
    "**Bottleneck of 12 neurons gives the above readable outputs. Increasing the bottleneck easily gives better quality results, but we try to get the best images from the minimal bottleneck**"
   ]
  },
  {
   "cell_type": "code",
   "execution_count": 0,
   "metadata": {
    "colab": {},
    "colab_type": "code",
    "id": "8W2_SBgHfjSD"
   },
   "outputs": [],
   "source": []
  },
  {
   "cell_type": "markdown",
   "metadata": {
    "colab_type": "text",
    "id": "PFnr4z4Ffqdz"
   },
   "source": [
    "**Generating images from random input to autoencoder model**"
   ]
  },
  {
   "cell_type": "code",
   "execution_count": 0,
   "metadata": {
    "colab": {},
    "colab_type": "code",
    "id": "s4_td6oygBxD"
   },
   "outputs": [],
   "source": [
    "# Preparing a decoding model\n",
    "\n",
    "# input_shape = model.layers[5].get_input_shape_at(0)\n",
    "fcae_enc_input = tf.keras.layers.Input(shape=(2,), name='enc_input')\n",
    "temp = fcae_enc_input\n",
    "for layer in fcae_model.layers[5:]:\n",
    "  temp = layer(temp)\n",
    "fcae_decoder_model = tf.keras.Model(fcae_enc_input, temp)"
   ]
  },
  {
   "cell_type": "code",
   "execution_count": 77,
   "metadata": {
    "colab": {
     "base_uri": "https://localhost:8080/",
     "height": 316
    },
    "colab_type": "code",
    "id": "d8piTuJGs6b6",
    "outputId": "d7730c3a-0049-4e22-b71e-a71ee74e2dd5"
   },
   "outputs": [
    {
     "name": "stdout",
     "output_type": "stream",
     "text": [
      "Random inputs\n",
      "[ 1.90770723 19.49796981]\n",
      "[10.96023079 18.08662945]\n",
      "[24.4497378  13.46239676]\n",
      "[12.52801159  1.80127833]\n",
      "[ 6.7109745  12.49706252]\n",
      "[16.9807499 20.0934759]\n",
      "[9.52352833 1.64840867]\n",
      "[ 7.20363998 22.73983819]\n",
      "[ 5.33463384 11.30309905]\n",
      "[23.28015049  0.62248069]\n"
     ]
    },
    {
     "data": {
      "image/png": "[encoded data removed]",
      "text/plain": [
       "<Figure size 1440x288 with 10 Axes>"
      ]
     },
     "metadata": {
      "tags": []
     },
     "output_type": "display_data"
    }
   ],
   "source": [
    "# Visualizing the results\n",
    "\n",
    "n = 10\n",
    "plt.figure(figsize=(20, 4))\n",
    "\n",
    "print('Random inputs')\n",
    "\n",
    "# generate random encoded input\n",
    "np.random.seed(7)\n",
    "random_input = np.random.uniform(high=25, size=(10,2))\n",
    "# random_input = np.reshape(final_test_image_encoding[i,:], (1, 2))\n",
    "\n",
    "for i in range(n):\n",
    "\n",
    "    # get model prediction\n",
    "    print(random_input[i])\n",
    "    output = fcae_decoder_model.predict(np.reshape(random_input[i],(1,2)))\n",
    "\n",
    "    # display reconstruction\n",
    "    ax = plt.subplot(2, n, i+1)\n",
    "    plt.imshow(output.reshape(28, 28))\n",
    "    plt.gray()\n",
    "    ax.get_xaxis().set_visible(False)\n",
    "    ax.get_yaxis().set_visible(False)\n",
    "\n",
    "plt.show()"
   ]
  },
  {
   "cell_type": "markdown",
   "metadata": {
    "colab_type": "text",
    "id": "88WrzTTSxIJN"
   },
   "source": [
    "**Standard normal distribution constraint**"
   ]
  },
  {
   "cell_type": "code",
   "execution_count": 4,
   "metadata": {
    "colab": {
     "base_uri": "https://localhost:8080/",
     "height": 34
    },
    "colab_type": "code",
    "id": "P-aBpgETyaxS",
    "outputId": "5d5c0071-7495-4063-d73f-e22d879a91a4"
   },
   "outputs": [
    {
     "name": "stdout",
     "output_type": "stream",
     "text": [
      "(60000, 784) (10000, 784)\n"
     ]
    }
   ],
   "source": [
    "# Reshaping the inputs\n",
    "\n",
    "train_input = np.reshape(x_train, (-1,784))\n",
    "test_input = np.reshape(x_test, (-1,784))\n",
    "print(np.shape(train_input),np.shape(test_input))"
   ]
  },
  {
   "cell_type": "code",
   "execution_count": 0,
   "metadata": {
    "colab": {},
    "colab_type": "code",
    "id": "T6iogsCd2I5L"
   },
   "outputs": [],
   "source": [
    "# Normalizing the inputs\n",
    "\n",
    "train_input = train_input/255\n",
    "test_input = test_input/255"
   ]
  },
  {
   "cell_type": "code",
   "execution_count": 6,
   "metadata": {
    "colab": {
     "base_uri": "https://localhost:8080/",
     "height": 581
    },
    "colab_type": "code",
    "id": "D6Gg14ad2N01",
    "outputId": "7477869b-528e-4a60-83a2-ff0509089b12"
   },
   "outputs": [
    {
     "name": "stdout",
     "output_type": "stream",
     "text": [
      "WARNING:tensorflow:From /tensorflow-1.15.2/python3.6/tensorflow_core/python/ops/resource_variable_ops.py:1630: calling BaseResourceVariable.__init__ (from tensorflow.python.ops.resource_variable_ops) with constraint is deprecated and will be removed in a future version.\n",
      "Instructions for updating:\n",
      "If using Keras pass *_constraint arguments to layers.\n",
      "Model: \"model\"\n",
      "_________________________________________________________________\n",
      "Layer (type)                 Output Shape              Param #   \n",
      "=================================================================\n",
      "input (InputLayer)           [(None, 784)]             0         \n",
      "_________________________________________________________________\n",
      "enc0 (Dense)                 (None, 300)               235500    \n",
      "_________________________________________________________________\n",
      "enc1 (Dense)                 (None, 75)                22575     \n",
      "_________________________________________________________________\n",
      "enc2 (Dense)                 (None, 15)                1140      \n",
      "_________________________________________________________________\n",
      "bottleneck (Dense)           (None, 2)                 32        \n",
      "_________________________________________________________________\n",
      "batch_normalization (BatchNo (None, 2)                 8         \n",
      "_________________________________________________________________\n",
      "dec1 (Dense)                 (None, 15)                45        \n",
      "_________________________________________________________________\n",
      "dec2 (Dense)                 (None, 75)                1200      \n",
      "_________________________________________________________________\n",
      "dec3 (Dense)                 (None, 300)               22800     \n",
      "_________________________________________________________________\n",
      "output (Dense)               (None, 784)               235984    \n",
      "=================================================================\n",
      "Total params: 519,284\n",
      "Trainable params: 519,280\n",
      "Non-trainable params: 4\n",
      "_________________________________________________________________\n",
      "None\n"
     ]
    }
   ],
   "source": [
    "# Model\n",
    "\n",
    "input_layer = tf.keras.layers.Input(shape=(784,), name='input')\n",
    "encoding_layer0 = tf.keras.layers.Dense(300, activation='relu', name='enc0')(input_layer)\n",
    "encoding_layer1 = tf.keras.layers.Dense(75, activation='relu', name='enc1')(encoding_layer0)\n",
    "encoding_layer2 = tf.keras.layers.Dense(15, activation='relu', name='enc2')(encoding_layer1)\n",
    "bottleneck = tf.keras.layers.Dense(2, activation='relu', name='bottleneck')(encoding_layer2)\n",
    "bottleneck_norm = tf.keras.layers.BatchNormalization()(bottleneck)\n",
    "decoding_layer1 = tf.keras.layers.Dense(15, activation='relu', name='dec1')(bottleneck_norm)\n",
    "decoding_layer2 = tf.keras.layers.Dense(75, activation='relu', name='dec2')(decoding_layer1)\n",
    "decoding_layer3 = tf.keras.layers.Dense(300, activation='relu', name='dec3')(decoding_layer2)\n",
    "output_layer = tf.keras.layers.Dense(784, activation='sigmoid', name='output')(decoding_layer3)\n",
    "normalized_fcae_model = tf.keras.Model(inputs=input_layer, outputs=output_layer)\n",
    "\n",
    "normalized_fcae_model.compile(loss='mse',optimizer='adam')\n",
    "print(normalized_fcae_model.summary())"
   ]
  },
  {
   "cell_type": "code",
   "execution_count": 7,
   "metadata": {
    "colab": {
     "base_uri": "https://localhost:8080/",
     "height": 1000
    },
    "colab_type": "code",
    "id": "0SYLsuYfEFQH",
    "outputId": "c0adc06f-1224-4087-9b5f-c43eb7b44aee"
   },
   "outputs": [
    {
     "name": "stdout",
     "output_type": "stream",
     "text": [
      "Train on 60000 samples, validate on 10000 samples\n",
      "Epoch 1/100\n",
      "60000/60000 [==============================] - 9s 154us/sample - loss: 0.0880 - val_loss: 0.0630\n",
      "Epoch 2/100\n",
      "60000/60000 [==============================] - 1s 14us/sample - loss: 0.0560 - val_loss: 0.0580\n",
      "Epoch 3/100\n",
      "60000/60000 [==============================] - 1s 14us/sample - loss: 0.0527 - val_loss: 0.0518\n",
      "Epoch 4/100\n",
      "60000/60000 [==============================] - 1s 14us/sample - loss: 0.0503 - val_loss: 0.0488\n",
      "Epoch 5/100\n",
      "60000/60000 [==============================] - 1s 14us/sample - loss: 0.0483 - val_loss: 0.0476\n",
      "Epoch 6/100\n",
      "60000/60000 [==============================] - 1s 14us/sample - loss: 0.0472 - val_loss: 0.0462\n",
      "Epoch 7/100\n",
      "60000/60000 [==============================] - 1s 14us/sample - loss: 0.0462 - val_loss: 0.0456\n",
      "Epoch 8/100\n",
      "60000/60000 [==============================] - 1s 14us/sample - loss: 0.0456 - val_loss: 0.0452\n",
      "Epoch 9/100\n",
      "60000/60000 [==============================] - 1s 14us/sample - loss: 0.0449 - val_loss: 0.0444\n",
      "Epoch 10/100\n",
      "60000/60000 [==============================] - 1s 14us/sample - loss: 0.0446 - val_loss: 0.0442\n",
      "Epoch 11/100\n",
      "60000/60000 [==============================] - 1s 14us/sample - loss: 0.0442 - val_loss: 0.0433\n",
      "Epoch 12/100\n",
      "60000/60000 [==============================] - 1s 14us/sample - loss: 0.0436 - val_loss: 0.0432\n",
      "Epoch 13/100\n",
      "60000/60000 [==============================] - 1s 14us/sample - loss: 0.0433 - val_loss: 0.0427\n",
      "Epoch 14/100\n",
      "60000/60000 [==============================] - 1s 14us/sample - loss: 0.0427 - val_loss: 0.0420\n",
      "Epoch 15/100\n",
      "60000/60000 [==============================] - 1s 14us/sample - loss: 0.0425 - val_loss: 0.0421\n",
      "Epoch 16/100\n",
      "60000/60000 [==============================] - 1s 14us/sample - loss: 0.0421 - val_loss: 0.0415\n",
      "Epoch 17/100\n",
      "60000/60000 [==============================] - 1s 14us/sample - loss: 0.0417 - val_loss: 0.0413\n",
      "Epoch 18/100\n",
      "60000/60000 [==============================] - 1s 14us/sample - loss: 0.0416 - val_loss: 0.0408\n",
      "Epoch 19/100\n",
      "60000/60000 [==============================] - 1s 14us/sample - loss: 0.0412 - val_loss: 0.0406\n",
      "Epoch 20/100\n",
      "60000/60000 [==============================] - 1s 14us/sample - loss: 0.0411 - val_loss: 0.0405\n",
      "Epoch 21/100\n",
      "60000/60000 [==============================] - 1s 14us/sample - loss: 0.0409 - val_loss: 0.0402\n",
      "Epoch 22/100\n",
      "60000/60000 [==============================] - 1s 14us/sample - loss: 0.0406 - val_loss: 0.0401\n",
      "Epoch 23/100\n",
      "60000/60000 [==============================] - 1s 14us/sample - loss: 0.0405 - val_loss: 0.0398\n",
      "Epoch 24/100\n",
      "60000/60000 [==============================] - 1s 14us/sample - loss: 0.0403 - val_loss: 0.0398\n",
      "Epoch 25/100\n",
      "60000/60000 [==============================] - 1s 14us/sample - loss: 0.0400 - val_loss: 0.0397\n",
      "Epoch 26/100\n",
      "60000/60000 [==============================] - 1s 14us/sample - loss: 0.0400 - val_loss: 0.0396\n",
      "Epoch 27/100\n",
      "60000/60000 [==============================] - 1s 14us/sample - loss: 0.0398 - val_loss: 0.0393\n",
      "Epoch 28/100\n",
      "60000/60000 [==============================] - 1s 14us/sample - loss: 0.0397 - val_loss: 0.0393\n",
      "Epoch 29/100\n",
      "60000/60000 [==============================] - 1s 14us/sample - loss: 0.0395 - val_loss: 0.0397\n",
      "Epoch 30/100\n",
      "60000/60000 [==============================] - 1s 14us/sample - loss: 0.0395 - val_loss: 0.0393\n",
      "Epoch 31/100\n",
      "60000/60000 [==============================] - 1s 14us/sample - loss: 0.0394 - val_loss: 0.0391\n",
      "Epoch 32/100\n",
      "60000/60000 [==============================] - 1s 14us/sample - loss: 0.0393 - val_loss: 0.0395\n",
      "Epoch 33/100\n",
      "60000/60000 [==============================] - 1s 14us/sample - loss: 0.0390 - val_loss: 0.0388\n",
      "Epoch 34/100\n",
      "60000/60000 [==============================] - 1s 14us/sample - loss: 0.0391 - val_loss: 0.0385\n",
      "Epoch 35/100\n",
      "60000/60000 [==============================] - 1s 14us/sample - loss: 0.0388 - val_loss: 0.0385\n",
      "Epoch 36/100\n",
      "60000/60000 [==============================] - 1s 14us/sample - loss: 0.0387 - val_loss: 0.0385\n",
      "Epoch 37/100\n",
      "60000/60000 [==============================] - 1s 14us/sample - loss: 0.0388 - val_loss: 0.0383\n",
      "Epoch 38/100\n",
      "60000/60000 [==============================] - 1s 14us/sample - loss: 0.0384 - val_loss: 0.0382\n",
      "Epoch 39/100\n",
      "60000/60000 [==============================] - 1s 14us/sample - loss: 0.0385 - val_loss: 0.0394\n",
      "Epoch 40/100\n",
      "60000/60000 [==============================] - 1s 14us/sample - loss: 0.0385 - val_loss: 0.0381\n",
      "Epoch 41/100\n",
      "60000/60000 [==============================] - 1s 14us/sample - loss: 0.0383 - val_loss: 0.0378\n",
      "Epoch 42/100\n",
      "60000/60000 [==============================] - 1s 14us/sample - loss: 0.0383 - val_loss: 0.0377\n",
      "Epoch 43/100\n",
      "60000/60000 [==============================] - 1s 14us/sample - loss: 0.0383 - val_loss: 0.0382\n",
      "Epoch 44/100\n",
      "60000/60000 [==============================] - 1s 14us/sample - loss: 0.0381 - val_loss: 0.0379\n",
      "Epoch 45/100\n",
      "60000/60000 [==============================] - 1s 14us/sample - loss: 0.0381 - val_loss: 0.0378\n",
      "Epoch 46/100\n",
      "60000/60000 [==============================] - 1s 14us/sample - loss: 0.0381 - val_loss: 0.0377\n",
      "Epoch 47/100\n",
      "60000/60000 [==============================] - 1s 14us/sample - loss: 0.0382 - val_loss: 0.0380\n",
      "Epoch 48/100\n",
      "60000/60000 [==============================] - 1s 14us/sample - loss: 0.0381 - val_loss: 0.0376\n",
      "Epoch 49/100\n",
      "60000/60000 [==============================] - 1s 14us/sample - loss: 0.0380 - val_loss: 0.0375\n",
      "Epoch 50/100\n",
      "60000/60000 [==============================] - 1s 14us/sample - loss: 0.0377 - val_loss: 0.0376\n",
      "Epoch 51/100\n",
      "60000/60000 [==============================] - 1s 14us/sample - loss: 0.0376 - val_loss: 0.0375\n",
      "Epoch 52/100\n",
      "60000/60000 [==============================] - 1s 14us/sample - loss: 0.0378 - val_loss: 0.0377\n",
      "Epoch 53/100\n",
      "60000/60000 [==============================] - 1s 14us/sample - loss: 0.0377 - val_loss: 0.0375\n",
      "Epoch 54/100\n",
      "60000/60000 [==============================] - 1s 14us/sample - loss: 0.0374 - val_loss: 0.0372\n",
      "Epoch 55/100\n",
      "60000/60000 [==============================] - 1s 14us/sample - loss: 0.0376 - val_loss: 0.0375\n",
      "Epoch 56/100\n",
      "60000/60000 [==============================] - 1s 14us/sample - loss: 0.0374 - val_loss: 0.0373\n",
      "Epoch 57/100\n",
      "60000/60000 [==============================] - 1s 14us/sample - loss: 0.0374 - val_loss: 0.0369\n",
      "Epoch 58/100\n",
      "60000/60000 [==============================] - 1s 14us/sample - loss: 0.0374 - val_loss: 0.0371\n",
      "Epoch 59/100\n",
      "60000/60000 [==============================] - 1s 14us/sample - loss: 0.0373 - val_loss: 0.0372\n",
      "Epoch 60/100\n",
      "60000/60000 [==============================] - 1s 14us/sample - loss: 0.0372 - val_loss: 0.0372\n",
      "Epoch 61/100\n",
      "60000/60000 [==============================] - 1s 14us/sample - loss: 0.0373 - val_loss: 0.0371\n",
      "Epoch 62/100\n",
      "60000/60000 [==============================] - 1s 14us/sample - loss: 0.0372 - val_loss: 0.0367\n",
      "Epoch 63/100\n",
      "60000/60000 [==============================] - 1s 14us/sample - loss: 0.0371 - val_loss: 0.0370\n",
      "Epoch 64/100\n",
      "60000/60000 [==============================] - 1s 14us/sample - loss: 0.0370 - val_loss: 0.0369\n",
      "Epoch 65/100\n",
      "60000/60000 [==============================] - 1s 14us/sample - loss: 0.0370 - val_loss: 0.0367\n",
      "Epoch 66/100\n",
      "60000/60000 [==============================] - 1s 14us/sample - loss: 0.0371 - val_loss: 0.0367\n",
      "Epoch 67/100\n",
      "60000/60000 [==============================] - 1s 14us/sample - loss: 0.0370 - val_loss: 0.0366\n",
      "Epoch 68/100\n",
      "60000/60000 [==============================] - 1s 14us/sample - loss: 0.0371 - val_loss: 0.0370\n",
      "Epoch 69/100\n",
      "60000/60000 [==============================] - 1s 14us/sample - loss: 0.0368 - val_loss: 0.0367\n",
      "Epoch 70/100\n",
      "60000/60000 [==============================] - 1s 14us/sample - loss: 0.0368 - val_loss: 0.0366\n",
      "Epoch 71/100\n",
      "60000/60000 [==============================] - 1s 14us/sample - loss: 0.0368 - val_loss: 0.0368\n",
      "Epoch 72/100\n",
      "60000/60000 [==============================] - 1s 14us/sample - loss: 0.0371 - val_loss: 0.0365\n",
      "Epoch 73/100\n",
      "60000/60000 [==============================] - 1s 14us/sample - loss: 0.0367 - val_loss: 0.0366\n",
      "Epoch 74/100\n",
      "60000/60000 [==============================] - 1s 14us/sample - loss: 0.0369 - val_loss: 0.0368\n",
      "Epoch 75/100\n",
      "60000/60000 [==============================] - 1s 14us/sample - loss: 0.0369 - val_loss: 0.0366\n",
      "Epoch 76/100\n",
      "60000/60000 [==============================] - 1s 14us/sample - loss: 0.0367 - val_loss: 0.0363\n",
      "Epoch 77/100\n",
      "60000/60000 [==============================] - 1s 14us/sample - loss: 0.0366 - val_loss: 0.0361\n",
      "Epoch 78/100\n",
      "60000/60000 [==============================] - 1s 14us/sample - loss: 0.0364 - val_loss: 0.0361\n",
      "Epoch 79/100\n",
      "60000/60000 [==============================] - 1s 14us/sample - loss: 0.0366 - val_loss: 0.0364\n",
      "Epoch 80/100\n",
      "60000/60000 [==============================] - 1s 14us/sample - loss: 0.0367 - val_loss: 0.0364\n",
      "Epoch 81/100\n",
      "60000/60000 [==============================] - 1s 14us/sample - loss: 0.0366 - val_loss: 0.0366\n",
      "Epoch 82/100\n",
      "60000/60000 [==============================] - 1s 14us/sample - loss: 0.0364 - val_loss: 0.0363\n",
      "Epoch 83/100\n",
      "60000/60000 [==============================] - 1s 14us/sample - loss: 0.0369 - val_loss: 0.0365\n",
      "Epoch 84/100\n",
      "60000/60000 [==============================] - 1s 14us/sample - loss: 0.0367 - val_loss: 0.0364\n",
      "Epoch 85/100\n",
      "60000/60000 [==============================] - 1s 14us/sample - loss: 0.0366 - val_loss: 0.0371\n",
      "Epoch 86/100\n",
      "60000/60000 [==============================] - 1s 14us/sample - loss: 0.0366 - val_loss: 0.0362\n",
      "Epoch 87/100\n",
      "60000/60000 [==============================] - 1s 14us/sample - loss: 0.0364 - val_loss: 0.0368\n",
      "Epoch 88/100\n",
      "60000/60000 [==============================] - 1s 14us/sample - loss: 0.0366 - val_loss: 0.0361\n",
      "Epoch 89/100\n",
      "60000/60000 [==============================] - 1s 14us/sample - loss: 0.0363 - val_loss: 0.0360\n",
      "Epoch 90/100\n",
      "60000/60000 [==============================] - 1s 14us/sample - loss: 0.0363 - val_loss: 0.0362\n",
      "Epoch 91/100\n",
      "60000/60000 [==============================] - 1s 14us/sample - loss: 0.0364 - val_loss: 0.0363\n",
      "Epoch 92/100\n",
      "60000/60000 [==============================] - 1s 14us/sample - loss: 0.0365 - val_loss: 0.0363\n",
      "Epoch 93/100\n",
      "60000/60000 [==============================] - 1s 14us/sample - loss: 0.0364 - val_loss: 0.0360\n",
      "Epoch 94/100\n",
      "60000/60000 [==============================] - 1s 14us/sample - loss: 0.0362 - val_loss: 0.0360\n",
      "Epoch 95/100\n",
      "60000/60000 [==============================] - 1s 14us/sample - loss: 0.0362 - val_loss: 0.0360\n",
      "Epoch 96/100\n",
      "60000/60000 [==============================] - 1s 14us/sample - loss: 0.0362 - val_loss: 0.0359\n",
      "Epoch 97/100\n",
      "60000/60000 [==============================] - 1s 14us/sample - loss: 0.0359 - val_loss: 0.0362\n",
      "Epoch 98/100\n",
      "60000/60000 [==============================] - 1s 14us/sample - loss: 0.0361 - val_loss: 0.0362\n",
      "Epoch 99/100\n",
      "60000/60000 [==============================] - 1s 14us/sample - loss: 0.0360 - val_loss: 0.0359\n",
      "Epoch 100/100\n",
      "60000/60000 [==============================] - 1s 14us/sample - loss: 0.0359 - val_loss: 0.0360\n"
     ]
    }
   ],
   "source": [
    "q3 = normalized_fcae_model.fit(train_input,train_input,batch_size=500,epochs=100,validation_data=(test_input,test_input))"
   ]
  },
  {
   "cell_type": "code",
   "execution_count": 8,
   "metadata": {
    "colab": {
     "base_uri": "https://localhost:8080/",
     "height": 295
    },
    "colab_type": "code",
    "id": "BrVm1nSMH8yr",
    "outputId": "9918ab02-cb43-4e70-8163-fa8ba9d5d998"
   },
   "outputs": [
    {
     "data": {
      "image/png": "[encoded data removed]",
      "text/plain": [
       "<Figure size 432x288 with 1 Axes>"
      ]
     },
     "metadata": {
      "tags": []
     },
     "output_type": "display_data"
    }
   ],
   "source": [
    "# Loss plots \n",
    "\n",
    "from matplotlib import pyplot as plt\n",
    "\n",
    "plt.plot(q3.history['loss'])\n",
    "plt.plot(q3.history['val_loss'])\n",
    "plt.title('Fully connected autoencoder (with normalized encoding at bottleneck) model loss')\n",
    "plt.ylabel('loss')\n",
    "plt.xlabel('epoch')\n",
    "plt.legend(['train', 'validation'], loc='upper right')\n",
    "plt.grid()\n",
    "plt.show()"
   ]
  },
  {
   "cell_type": "code",
   "execution_count": 0,
   "metadata": {
    "colab": {},
    "colab_type": "code",
    "id": "hNBgsgnpI0YH"
   },
   "outputs": [],
   "source": [
    "# Preparing a decoding model\n",
    "\n",
    "new_fcae_enc_input = tf.keras.layers.Input(shape=(2,), name='enc_input')\n",
    "temp = new_fcae_enc_input\n",
    "for layer in normalized_fcae_model.layers[6:]:\n",
    "  temp = layer(temp)\n",
    "new_fcae_decoder_model = tf.keras.Model(new_fcae_enc_input, temp)"
   ]
  },
  {
   "cell_type": "code",
   "execution_count": 11,
   "metadata": {
    "colab": {
     "base_uri": "https://localhost:8080/",
     "height": 316
    },
    "colab_type": "code",
    "id": "iadstTp1Jjt6",
    "outputId": "03eb787d-eac7-4158-b1d9-cc5421135cbc"
   },
   "outputs": [
    {
     "name": "stdout",
     "output_type": "stream",
     "text": [
      "Multivariate random normal inputs\n",
      "[ 1.6905257  -0.46593737]\n",
      "[0.03282016 0.40751628]\n",
      "[-0.78892303  0.00206557]\n",
      "[-8.90385858e-04 -1.75472431e+00]\n",
      "[1.01765801 0.60049852]\n",
      "[-0.62542897 -0.17154826]\n",
      "[ 0.50529937 -0.26135642]\n",
      "[-0.24274908 -1.45324141]\n",
      "[0.55458031 0.12388091]\n",
      "[ 0.27445992 -1.52652453]\n"
     ]
    },
    {
     "data": {
      "image/png": "[encoded data removed]",
      "text/plain": [
       "<Figure size 1440x288 with 10 Axes>"
      ]
     },
     "metadata": {
      "tags": []
     },
     "output_type": "display_data"
    }
   ],
   "source": [
    "# Visualizing the results\n",
    "\n",
    "n = 10\n",
    "plt.figure(figsize=(20, 4))\n",
    "print('Multivariate random normal inputs')\n",
    "\n",
    "# generate normalized random encoded input\n",
    "np.random.seed(7)\n",
    "mean = np.zeros((2))\n",
    "var = np.eye(2)\n",
    "random_input = np.random.multivariate_normal(mean,var, 10)\n",
    "\n",
    "for i in range(n):\n",
    "\n",
    "    # get model prediction\n",
    "    print(random_input[i])\n",
    "    output = new_fcae_decoder_model.predict(np.reshape(random_input[i], (1,2)))\n",
    "\n",
    "    # display reconstruction\n",
    "    ax = plt.subplot(2, n, i+1)\n",
    "    plt.imshow(output.reshape(28, 28))\n",
    "    plt.gray()\n",
    "    ax.get_xaxis().set_visible(False)\n",
    "    ax.get_yaxis().set_visible(False)\n",
    "\n",
    "plt.show()"
   ]
  },
  {
   "cell_type": "markdown",
   "metadata": {
    "colab_type": "text",
    "id": "b7sAZ6M7T1zC"
   },
   "source": [
    "The output images from the normalized bottleneck are more clear in the sense that they can be more easily recognized than the images generated from the implementation in the first part. This could be due to the fact that in the first case, the encodings could be any real number (since we are not using any activation regularizer; also due to the fact that we are using ReLU instead of sigmoid activation function). Thus, inputting a random value as an input could not match any of the encodings due to the vast domain of possible encodings. However, in the second case, the encodings are normalized and hence would be clusetered near the mean value of normalization ((0,0) in our case). Hence the randomly generated input could more likely match any of the encodings to produce a recognizable output."
   ]
  },
  {
   "cell_type": "markdown",
   "metadata": {
    "colab_type": "text",
    "id": "ah6THxq9tvcx"
   },
   "source": [
    "**Variational AutoEncoder**"
   ]
  },
  {
   "cell_type": "code",
   "execution_count": 168,
   "metadata": {
    "colab": {
     "base_uri": "https://localhost:8080/",
     "height": 34
    },
    "colab_type": "code",
    "id": "yyVkM9Qy-C9b",
    "outputId": "742d19fe-2464-4c65-dd7a-9cc089e19f59"
   },
   "outputs": [
    {
     "name": "stdout",
     "output_type": "stream",
     "text": [
      "(60000, 784) (10000, 784)\n"
     ]
    }
   ],
   "source": [
    "# Reshaping the inputs\n",
    "\n",
    "train_input = np.reshape(x_train, (-1,784))\n",
    "test_input = np.reshape(x_test, (-1,784))\n",
    "print(np.shape(train_input),np.shape(test_input))"
   ]
  },
  {
   "cell_type": "code",
   "execution_count": 0,
   "metadata": {
    "colab": {},
    "colab_type": "code",
    "id": "XpgMBCHJ-HtY"
   },
   "outputs": [],
   "source": [
    "# Normalizing the inputs\n",
    "\n",
    "train_input = train_input/255\n",
    "test_input = test_input/255"
   ]
  },
  {
   "cell_type": "code",
   "execution_count": 178,
   "metadata": {
    "colab": {
     "base_uri": "https://localhost:8080/",
     "height": 561
    },
    "colab_type": "code",
    "id": "3UYIcYXP0LXk",
    "outputId": "ad5dafb1-48f2-4a77-9882-79ef5bdf9f9b"
   },
   "outputs": [
    {
     "name": "stdout",
     "output_type": "stream",
     "text": [
      "Model: \"model_77\"\n",
      "__________________________________________________________________________________________________\n",
      "Layer (type)                    Output Shape         Param #     Connected to                     \n",
      "==================================================================================================\n",
      "input (InputLayer)              [(None, 784)]        0                                            \n",
      "__________________________________________________________________________________________________\n",
      "enc0 (Dense)                    (None, 300)          235500      input[0][0]                      \n",
      "__________________________________________________________________________________________________\n",
      "enc1 (Dense)                    (None, 75)           22575       enc0[0][0]                       \n",
      "__________________________________________________________________________________________________\n",
      "enc2 (Dense)                    (None, 15)           1140        enc1[0][0]                       \n",
      "__________________________________________________________________________________________________\n",
      "mu (Dense)                      (None, 2)            32          enc2[0][0]                       \n",
      "__________________________________________________________________________________________________\n",
      "sigma (Dense)                   (None, 2)            32          enc2[0][0]                       \n",
      "__________________________________________________________________________________________________\n",
      "lambda_30 (Lambda)              (None, 2)            0           mu[0][0]                         \n",
      "                                                                 sigma[0][0]                      \n",
      "__________________________________________________________________________________________________\n",
      "dec1 (Dense)                    (None, 15)           45          lambda_30[0][0]                  \n",
      "__________________________________________________________________________________________________\n",
      "dec2 (Dense)                    (None, 75)           1200        dec1[0][0]                       \n",
      "__________________________________________________________________________________________________\n",
      "dec3 (Dense)                    (None, 300)          22800       dec2[0][0]                       \n",
      "__________________________________________________________________________________________________\n",
      "output (Dense)                  (None, 784)          235984      dec3[0][0]                       \n",
      "==================================================================================================\n",
      "Total params: 519,308\n",
      "Trainable params: 519,308\n",
      "Non-trainable params: 0\n",
      "__________________________________________________________________________________________________\n",
      "None\n"
     ]
    }
   ],
   "source": [
    "# Model\n",
    "\n",
    "input_layer = tf.keras.layers.Input(shape=(784,), name='input')\n",
    "encoding_layer0 = tf.keras.layers.Dense(300, activation='relu', name='enc0')(input_layer)\n",
    "encoding_layer1 = tf.keras.layers.Dense(75, activation='relu', name='enc1')(encoding_layer0)\n",
    "encoding_layer2 = tf.keras.layers.Dense(15, activation='relu', name='enc2')(encoding_layer1)\n",
    "mu = tf.keras.layers.Dense(2, activation='relu', name='mu')(encoding_layer2)\n",
    "sigma = tf.keras.layers.Dense(2, activation='relu', name='sigma')(encoding_layer2)\n",
    "\n",
    "def sampling(args):\n",
    "    mu, sigma = args\n",
    "    reparameter = K.random_normal(shape=(2,), mean=0., stddev=1.)\n",
    "    return mu + (K.exp(sigma))*reparameter\n",
    "\n",
    "bottleneck = tf.keras.layers.Lambda(sampling, output_shape=(2,))([mu, sigma])\n",
    "\n",
    "decoding_layer1 = tf.keras.layers.Dense(15, activation='relu', name='dec1')(bottleneck)\n",
    "decoding_layer2 = tf.keras.layers.Dense(75, activation='relu', name='dec2')(decoding_layer1)\n",
    "decoding_layer3 = tf.keras.layers.Dense(300, activation='relu', name='dec3')(decoding_layer2)\n",
    "output_layer = tf.keras.layers.Dense(784, activation='sigmoid', name='output')(decoding_layer3)\n",
    "\n",
    "vae_model = tf.keras.Model(input_layer, output_layer)\n",
    "print(vae_model.summary())"
   ]
  },
  {
   "cell_type": "code",
   "execution_count": 0,
   "metadata": {
    "colab": {},
    "colab_type": "code",
    "id": "ELjZqj5cEpgc"
   },
   "outputs": [],
   "source": [
    "# Preparing the encoder model\n",
    "encoder_vae = tf.keras.Model(input_layer, mu)\n",
    "\n",
    "# Preparing a decoding model\n",
    "decoder_input = tf.keras.layers.Input(shape=(2,))\n",
    "temp = decoder_input\n",
    "for layer in vae_model.layers[7:]:\n",
    "  temp = layer(temp)\n",
    "vae_decoder_model = tf.keras.Model(decoder_input, temp)"
   ]
  },
  {
   "cell_type": "code",
   "execution_count": 0,
   "metadata": {
    "colab": {},
    "colab_type": "code",
    "id": "z4UVA5b9EoVM"
   },
   "outputs": [],
   "source": [
    "# Defining the vae loss\n",
    "\n",
    "from keras import backend as K\n",
    "\n",
    "def vae_loss(x, x_decoded_mean):\n",
    "    mse_loss = tf.keras.losses.mse(x, x_decoded_mean)\n",
    "    kl_loss = - 0.5 * K.mean(1 + sigma - K.square(mu) - K.exp(sigma), axis=-1)\n",
    "    return mse_loss + kl_loss\n",
    "\n",
    "vae_model.compile(optimizer='adam', loss=vae_loss)"
   ]
  },
  {
   "cell_type": "code",
   "execution_count": 181,
   "metadata": {
    "colab": {
     "base_uri": "https://localhost:8080/",
     "height": 1000
    },
    "colab_type": "code",
    "id": "1EcG7rNyGZu_",
    "outputId": "8e6ee83f-fe75-49d4-9634-fec691a95050"
   },
   "outputs": [
    {
     "name": "stdout",
     "output_type": "stream",
     "text": [
      "Train on 60000 samples, validate on 10000 samples\n",
      "Epoch 1/50\n",
      "60000/60000 [==============================] - 6s 106us/sample - loss: 0.0764 - val_loss: 0.0676\n",
      "Epoch 2/50\n",
      "60000/60000 [==============================] - 3s 51us/sample - loss: 0.0674 - val_loss: 0.0676\n",
      "Epoch 3/50\n",
      "60000/60000 [==============================] - 3s 50us/sample - loss: 0.0674 - val_loss: 0.0676\n",
      "Epoch 4/50\n",
      "60000/60000 [==============================] - 3s 51us/sample - loss: 0.0674 - val_loss: 0.0675\n",
      "Epoch 5/50\n",
      "60000/60000 [==============================] - 3s 50us/sample - loss: 0.0673 - val_loss: 0.0677\n",
      "Epoch 6/50\n",
      "60000/60000 [==============================] - 3s 50us/sample - loss: 0.0673 - val_loss: 0.0675\n",
      "Epoch 7/50\n",
      "60000/60000 [==============================] - 3s 50us/sample - loss: 0.0673 - val_loss: 0.0676\n",
      "Epoch 8/50\n",
      "60000/60000 [==============================] - 3s 50us/sample - loss: 0.0673 - val_loss: 0.0675\n",
      "Epoch 9/50\n",
      "60000/60000 [==============================] - 3s 50us/sample - loss: 0.0673 - val_loss: 0.0675\n",
      "Epoch 10/50\n",
      "60000/60000 [==============================] - 3s 50us/sample - loss: 0.0673 - val_loss: 0.0676\n",
      "Epoch 11/50\n",
      "60000/60000 [==============================] - 3s 51us/sample - loss: 0.0673 - val_loss: 0.0675\n",
      "Epoch 12/50\n",
      "60000/60000 [==============================] - 3s 49us/sample - loss: 0.0673 - val_loss: 0.0675\n",
      "Epoch 13/50\n",
      "60000/60000 [==============================] - 3s 50us/sample - loss: 0.0673 - val_loss: 0.0675\n",
      "Epoch 14/50\n",
      "60000/60000 [==============================] - 3s 50us/sample - loss: 0.0673 - val_loss: 0.0675\n",
      "Epoch 15/50\n",
      "60000/60000 [==============================] - 3s 50us/sample - loss: 0.0673 - val_loss: 0.0675\n",
      "Epoch 16/50\n",
      "60000/60000 [==============================] - 3s 50us/sample - loss: 0.0673 - val_loss: 0.0675\n",
      "Epoch 17/50\n",
      "60000/60000 [==============================] - 3s 50us/sample - loss: 0.0673 - val_loss: 0.0675\n",
      "Epoch 18/50\n",
      "60000/60000 [==============================] - 3s 50us/sample - loss: 0.0673 - val_loss: 0.0675\n",
      "Epoch 19/50\n",
      "60000/60000 [==============================] - 3s 50us/sample - loss: 0.0673 - val_loss: 0.0675\n",
      "Epoch 20/50\n",
      "60000/60000 [==============================] - 3s 50us/sample - loss: 0.0673 - val_loss: 0.0675\n",
      "Epoch 21/50\n",
      "60000/60000 [==============================] - 3s 50us/sample - loss: 0.0673 - val_loss: 0.0675\n",
      "Epoch 22/50\n",
      "60000/60000 [==============================] - 3s 50us/sample - loss: 0.0673 - val_loss: 0.0675\n",
      "Epoch 23/50\n",
      "60000/60000 [==============================] - 3s 50us/sample - loss: 0.0673 - val_loss: 0.0675\n",
      "Epoch 24/50\n",
      "60000/60000 [==============================] - 3s 49us/sample - loss: 0.0673 - val_loss: 0.0675\n",
      "Epoch 25/50\n",
      "60000/60000 [==============================] - 3s 50us/sample - loss: 0.0673 - val_loss: 0.0675\n",
      "Epoch 26/50\n",
      "60000/60000 [==============================] - 3s 50us/sample - loss: 0.0673 - val_loss: 0.0675\n",
      "Epoch 27/50\n",
      "60000/60000 [==============================] - 3s 50us/sample - loss: 0.0673 - val_loss: 0.0675\n",
      "Epoch 28/50\n",
      "60000/60000 [==============================] - 3s 50us/sample - loss: 0.0673 - val_loss: 0.0675\n",
      "Epoch 29/50\n",
      "60000/60000 [==============================] - 3s 50us/sample - loss: 0.0673 - val_loss: 0.0675\n",
      "Epoch 30/50\n",
      "60000/60000 [==============================] - 3s 50us/sample - loss: 0.0673 - val_loss: 0.0675\n",
      "Epoch 31/50\n",
      "60000/60000 [==============================] - 3s 49us/sample - loss: 0.0673 - val_loss: 0.0675\n",
      "Epoch 32/50\n",
      "60000/60000 [==============================] - 3s 50us/sample - loss: 0.0673 - val_loss: 0.0675\n",
      "Epoch 33/50\n",
      "60000/60000 [==============================] - 3s 49us/sample - loss: 0.0673 - val_loss: 0.0675\n",
      "Epoch 34/50\n",
      "60000/60000 [==============================] - 3s 49us/sample - loss: 0.0673 - val_loss: 0.0675\n",
      "Epoch 35/50\n",
      "60000/60000 [==============================] - 3s 50us/sample - loss: 0.0673 - val_loss: 0.0675\n",
      "Epoch 36/50\n",
      "60000/60000 [==============================] - 3s 49us/sample - loss: 0.0673 - val_loss: 0.0675\n",
      "Epoch 37/50\n",
      "60000/60000 [==============================] - 3s 49us/sample - loss: 0.0673 - val_loss: 0.0675\n",
      "Epoch 38/50\n",
      "60000/60000 [==============================] - 3s 50us/sample - loss: 0.0673 - val_loss: 0.0675\n",
      "Epoch 39/50\n",
      "60000/60000 [==============================] - 3s 49us/sample - loss: 0.0673 - val_loss: 0.0675\n",
      "Epoch 40/50\n",
      "60000/60000 [==============================] - 3s 50us/sample - loss: 0.0673 - val_loss: 0.0675\n",
      "Epoch 41/50\n",
      "60000/60000 [==============================] - 3s 50us/sample - loss: 0.0673 - val_loss: 0.0675\n",
      "Epoch 42/50\n",
      "60000/60000 [==============================] - 3s 49us/sample - loss: 0.0673 - val_loss: 0.0675\n",
      "Epoch 43/50\n",
      "60000/60000 [==============================] - 3s 49us/sample - loss: 0.0673 - val_loss: 0.0675\n",
      "Epoch 44/50\n",
      "60000/60000 [==============================] - 3s 50us/sample - loss: 0.0673 - val_loss: 0.0675\n",
      "Epoch 45/50\n",
      "60000/60000 [==============================] - 3s 49us/sample - loss: 0.0673 - val_loss: 0.0675\n",
      "Epoch 46/50\n",
      "60000/60000 [==============================] - 3s 50us/sample - loss: 0.0673 - val_loss: 0.0675\n",
      "Epoch 47/50\n",
      "60000/60000 [==============================] - 3s 50us/sample - loss: 0.0673 - val_loss: 0.0675\n",
      "Epoch 48/50\n",
      "60000/60000 [==============================] - 3s 49us/sample - loss: 0.0673 - val_loss: 0.0675\n",
      "Epoch 49/50\n",
      "60000/60000 [==============================] - 3s 50us/sample - loss: 0.0673 - val_loss: 0.0675\n",
      "Epoch 50/50\n",
      "60000/60000 [==============================] - 3s 50us/sample - loss: 0.0673 - val_loss: 0.0675\n"
     ]
    }
   ],
   "source": [
    "q4 = vae_model.fit(train_input, train_input, epochs=50, batch_size=100, validation_data=(test_input, test_input))"
   ]
  },
  {
   "cell_type": "code",
   "execution_count": 163,
   "metadata": {
    "colab": {
     "base_uri": "https://localhost:8080/",
     "height": 295
    },
    "colab_type": "code",
    "id": "zFCbTgmmG4bO",
    "outputId": "1cf819b1-9cb6-44e2-b7d6-7b402bdb34c3"
   },
   "outputs": [
    {
     "data": {
      "image/png": "[encoded data removed]",
      "text/plain": [
       "<Figure size 432x288 with 1 Axes>"
      ]
     },
     "metadata": {
      "tags": []
     },
     "output_type": "display_data"
    }
   ],
   "source": [
    "# Loss plots \n",
    "\n",
    "from matplotlib import pyplot as plt\n",
    "\n",
    "plt.plot(q4.history['loss'])\n",
    "plt.plot(q4.history['val_loss'])\n",
    "plt.title('Fully connected VAE model loss')\n",
    "plt.ylabel('loss')\n",
    "plt.xlabel('epoch')\n",
    "plt.legend(['train', 'validation'], loc='upper right')\n",
    "plt.grid()\n",
    "plt.show()"
   ]
  },
  {
   "cell_type": "code",
   "execution_count": 183,
   "metadata": {
    "colab": {
     "base_uri": "https://localhost:8080/",
     "height": 316
    },
    "colab_type": "code",
    "id": "_Ho9XBvGNXUZ",
    "outputId": "955ef775-11ba-4f69-ea2c-9195efa849d5"
   },
   "outputs": [
    {
     "name": "stdout",
     "output_type": "stream",
     "text": [
      "Multivariate random normal inputs\n",
      "[0.85099741 0.17775492]\n",
      "[-0.85303971 -0.44389968]\n",
      "[-0.20293796  1.10051557]\n",
      "[-3.03513615 -0.41456145]\n",
      "[-1.34308784 -0.7731739 ]\n",
      "[-1.67520693  0.80527769]\n",
      "[-0.49491418 -0.50388454]\n",
      "[-0.59621701  0.37449326]\n",
      "[ 0.41315697 -0.18360565]\n",
      "[0.65195623 1.07466944]\n"
     ]
    },
    {
     "data": {
      "image/png": "[encoded data removed]",
      "text/plain": [
       "<Figure size 1440x288 with 10 Axes>"
      ]
     },
     "metadata": {
      "tags": []
     },
     "output_type": "display_data"
    }
   ],
   "source": [
    "# Visualizing the results\n",
    "\n",
    "n = 10\n",
    "plt.figure(figsize=(20, 4))\n",
    "print('Multivariate random normal inputs')\n",
    "\n",
    "# generate normalized random encoded input\n",
    "np.random.seed(70)\n",
    "mean = np.zeros((2))\n",
    "var = np.eye(2)\n",
    "random_input = np.random.multivariate_normal(mean,var, 10)\n",
    "# random_input = np.random.uniform(high=100, size=(10,2))\n",
    "\n",
    "for i in range(n):\n",
    "\n",
    "    # get model prediction\n",
    "    print(random_input[i])\n",
    "    output = vae_decoder_model.predict(np.reshape(random_input[i]*1.0, (1,2)))\n",
    "\n",
    "    # display reconstruction\n",
    "    ax = plt.subplot(2, n, i+1)\n",
    "    plt.imshow(output.reshape(28, 28))\n",
    "    plt.gray()\n",
    "    ax.get_xaxis().set_visible(False)\n",
    "    ax.get_yaxis().set_visible(False)\n",
    "\n",
    "plt.show()"
   ]
  },
  {
   "cell_type": "code",
   "execution_count": 0,
   "metadata": {
    "colab": {},
    "colab_type": "code",
    "id": "iV3sqElWIcBS"
   },
   "outputs": [],
   "source": []
  }
 ],
 "metadata": {
  "accelerator": "GPU",
  "colab": {
   "name": "AssignmentFour.ipynb",
   "provenance": []
  },
  "kernelspec": {
   "display_name": "Python 3",
   "language": "python",
   "name": "python3"
  },
  "language_info": {
   "codemirror_mode": {
    "name": "ipython",
    "version": 3
   },
   "file_extension": ".py",
   "mimetype": "text/x-python",
   "name": "python",
   "nbconvert_exporter": "python",
   "pygments_lexer": "ipython3",
   "version": "3.7.11"
  }
 },
 "nbformat": 4,
 "nbformat_minor": 1
}
